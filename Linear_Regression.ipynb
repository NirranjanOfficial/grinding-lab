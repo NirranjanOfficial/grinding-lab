{
  "nbformat": 4,
  "nbformat_minor": 0,
  "metadata": {
    "colab": {
      "provenance": [],
      "collapsed_sections": [
        "zrp-sxTUMAjy"
      ],
      "authorship_tag": "ABX9TyN4FeqWTcKa6JicadBTDx8j",
      "include_colab_link": true
    },
    "kernelspec": {
      "name": "python3",
      "display_name": "Python 3"
    },
    "language_info": {
      "name": "python"
    }
  },
  "cells": [
    {
      "cell_type": "markdown",
      "metadata": {
        "id": "view-in-github",
        "colab_type": "text"
      },
      "source": [
        "<a href=\"https://colab.research.google.com/github/NirranjanOfficial/grinding-lab/blob/main/Linear_Regression.ipynb\" target=\"_parent\"><img src=\"https://colab.research.google.com/assets/colab-badge.svg\" alt=\"Open In Colab\"/></a>"
      ]
    },
    {
      "cell_type": "markdown",
      "source": [
        "###Pytorch workflow:\n",
        "###Steps involved:\n",
        "1. Data prepare and Load\n",
        "2. Build model (includes selecing optimiser and the loop)\n",
        "3. Fitting the model to the data(training)\n",
        "4. Making predicting and evaluating a model(inference)\n",
        "5. Saving and loading\n",
        "6. Putting it all together"
      ],
      "metadata": {
        "id": "zrp-sxTUMAjy"
      }
    },
    {
      "cell_type": "code",
      "execution_count": null,
      "metadata": {
        "colab": {
          "base_uri": "https://localhost:8080/"
        },
        "id": "7mTgHUJDLpUo",
        "outputId": "f1856a72-fd38-4e00-9296-5d0aceb516ec"
      },
      "outputs": [
        {
          "output_type": "execute_result",
          "data": {
            "text/plain": [
              "'2.6.0+cu124'"
            ],
            "application/vnd.google.colaboratory.intrinsic+json": {
              "type": "string"
            }
          },
          "metadata": {},
          "execution_count": 2
        }
      ],
      "source": [
        "import torch\n",
        "from torch import nn\n",
        "import matplotlib.pyplot as plt #we need to continuously visvalise\n",
        "torch.__version__"
      ]
    },
    {
      "cell_type": "markdown",
      "source": [
        "###Data prepare and Load:\n",
        "Data can be almost anything... in machine learning.\n",
        "* Excel speadsheet\n",
        "* Images of any kind\n",
        "* Videos (YouTube has lots of data...)\n",
        "* Audio like songs or podcasts\n",
        "* DNA\n",
        "* Text\n",
        "Machine learning is a game of two parts:\n",
        "1. Get data into a numerical representation.\n",
        "2. Build a model to learn patterns in that numerical representation."
      ],
      "metadata": {
        "id": "N3mGBYg3NVe5"
      }
    },
    {
      "cell_type": "code",
      "source": [
        "#Lets simply start with linear regression!\n",
        "weight = 0.7  #how much importance should i give tothat specific neural line\n",
        "bais = 0.3  #error estimate\n",
        "\n",
        "#create\n",
        "start = 0\n",
        "end = 1\n",
        "step = 0.02\n",
        "X = torch.arange(start,end,step).unsqueeze(dim=1)\n",
        "y = weight * X + bais\n",
        "X[:10], y[:10]\n",
        "len(X),len(y)\n",
        "X.shape\n",
        "'''#What we are doing here is that...we know there is a relationship between X n y\n",
        "...but we need our model to find it out!'''\n",
        "plt.scatter(X,y)\n",
        "plt.show()"
      ],
      "metadata": {
        "colab": {
          "base_uri": "https://localhost:8080/",
          "height": 430
        },
        "id": "P_aMf5a_NArR",
        "outputId": "056bc1f1-7499-4fe0-8d43-dcc6ca740feb"
      },
      "execution_count": null,
      "outputs": [
        {
          "output_type": "display_data",
          "data": {
            "text/plain": [
              "<Figure size 640x480 with 1 Axes>"
            ],
            "image/png": "[encoded data removed]"
          },
          "metadata": {}
        }
      ]
    },
    {
      "cell_type": "code",
      "source": [
        "#Before that we need to split our Data into validation set and test set"
      ],
      "metadata": {
        "id": "1-KsRpE0ORgs"
      },
      "execution_count": null,
      "outputs": []
    },
    {
      "cell_type": "code",
      "source": [
        "train_split = int(0.8 * len(X))   #80% of the actual data is used to train model\n",
        "X_train, y_train = X[:train_split], y[:train_split] #selecting from 0th data to 80th data\n",
        "X_test, y_test = X[train_split:], y[train_split:]\n",
        "len(X_train), len(y_train), len(X_test), len(y_test) #see the data is split into 2!"
      ],
      "metadata": {
        "id": "U6lkv4-6QuxR",
        "colab": {
          "base_uri": "https://localhost:8080/"
        },
        "outputId": "af0aa482-a0b5-4ecb-9f30-698a4c8d9989"
      },
      "execution_count": null,
      "outputs": [
        {
          "output_type": "execute_result",
          "data": {
            "text/plain": [
              "(40, 40, 10, 10)"
            ]
          },
          "metadata": {},
          "execution_count": 5
        }
      ]
    },
    {
      "cell_type": "code",
      "source": [
        "def plot_predictions(train_data=X_train,\n",
        "                     train_labels=y_train,\n",
        "                     test_data=X_test,\n",
        "                     test_labels=y_test,\n",
        "                     predections=None):\n",
        "  plt.figure(figsize=(10,7))\n",
        "  #lets plot our training data in one color and test data in another color\n",
        "  plt.scatter(train_data, train_labels,c='b',s=4,label=\"Training data\")\n",
        "  plt.scatter(test_data, test_labels,c='g',s=4,label=\"Test data\")\n",
        "  if predections is not None: #ie if there is any predection...plot it in red color\n",
        "    plt.scatter(test_data, predections,c='r',s=4,label=\"Predictions\")\n",
        "  plt.legend(prop={\"size\":14})\n",
        "  plt.show()\n",
        "\n",
        "plot_predictions()"
      ],
      "metadata": {
        "id": "5yWHYDlAWC24",
        "colab": {
          "base_uri": "https://localhost:8080/",
          "height": 471
        },
        "outputId": "5e1b239f-dd66-4d85-c954-c1cfe3bec9d1"
      },
      "execution_count": null,
      "outputs": [
        {
          "output_type": "display_data",
          "data": {
            "text/plain": [
              "<Figure size 1000x700 with 1 Axes>"
            ],
            "image/png": "[encoded data removed]"
          },
          "metadata": {}
        }
      ]
    },
    {
      "cell_type": "markdown",
      "source": [
        "###Building the first Pytorch model for liner regression model:\n",
        "What our model does:\n",
        "\n",
        "* Start with random values (weight & bias)\n",
        "* Look at training data and adjust the random values to better represent (or get closer to) the ideal values (the weight & bias values we used\n",
        "to create the data)\n",
        "\n",
        "How it does?\n",
        "* Gradient decent\n",
        "* Backprobagation\n",
        "\n",
        "###Essentials:\n",
        "* torch.nn contains all of the buildings for computational graphs\n",
        "(a neural network can be considered a computational graph)\n",
        "* torch.nn. Parameter - what parameters should our model try and\n",
        "learn, often a PyTorch layer from torch.nn will set these for us\n",
        "* torch.nn.Module - The base class for all neural network modules,\n",
        "if you subclass it, you should overwrite forward()\n",
        "* torch.optim - this where the optimizers in PyTorch live, they will\n",
        "help with gradient descent\n",
        "* def forward() - All nn. Module subclasses require you to overwrite\n",
        "forward(), this method defines what happens in the forward\n",
        "computation"
      ],
      "metadata": {
        "id": "s0dEOZJ8Y8tp"
      }
    },
    {
      "cell_type": "code",
      "source": [
        "import torch\n",
        "from torch import nn\n",
        "class LinearRegressionModel(nn.Module):\n",
        "  def __init__(self):\n",
        "    super().__init__()\n",
        "    self.weight = nn.Parameter(torch.randn(1,\n",
        "                                           requires_grad=True,\n",
        "                                           dtype=torch.float))\n",
        "    self.bias = nn.Parameter(torch.randn(1,\n",
        "                                         requires_grad=True,\n",
        "                                         dtype=torch.float))\n",
        "    #Forward method to define the computation in the model\n",
        "  def forward(self,x:torch.Tensor) ->torch.Tensor:\n",
        "    return self.weight * x + self.bias #linear regression formula..y=mX+c\n",
        "\n",
        "#It is important to have an forward function as it is what tells the model\n",
        "#like what kind of thing it should do and send to next set of neorons!"
      ],
      "metadata": {
        "id": "N7ZfaBxjXsFY"
      },
      "execution_count": null,
      "outputs": []
    },
    {
      "cell_type": "code",
      "source": [
        "#Create random seed\n",
        "torch.manual_seed(42)  #used to get the same value again n again\n",
        "model_0 = LinearRegressionModel()  #Instance is created here\n",
        "list(model_0.parameters())  #we are checking out the partameters in the model!"
      ],
      "metadata": {
        "id": "HiH4PQs5ZHlg",
        "colab": {
          "base_uri": "https://localhost:8080/"
        },
        "outputId": "d5a17320-decf-46e8-a2f9-dfc2bcb55378"
      },
      "execution_count": null,
      "outputs": [
        {
          "output_type": "execute_result",
          "data": {
            "text/plain": [
              "[Parameter containing:\n",
              " tensor([0.3367], requires_grad=True),\n",
              " Parameter containing:\n",
              " tensor([0.1288], requires_grad=True)]"
            ]
          },
          "metadata": {},
          "execution_count": 8
        }
      ]
    },
    {
      "cell_type": "code",
      "source": [
        "model_0.state_dict()  #this is used"
      ],
      "metadata": {
        "id": "JRLjc5TG9L2S",
        "colab": {
          "base_uri": "https://localhost:8080/"
        },
        "outputId": "8820ac12-85d6-42b3-e833-12d0529c3a11"
      },
      "execution_count": null,
      "outputs": [
        {
          "output_type": "execute_result",
          "data": {
            "text/plain": [
              "OrderedDict([('weight', tensor([0.3367])), ('bias', tensor([0.1288]))])"
            ]
          },
          "metadata": {},
          "execution_count": 9
        }
      ]
    },
    {
      "cell_type": "code",
      "source": [
        "weight,bais, X_test, y_test"
      ],
      "metadata": {
        "id": "C9gVbZlU92ik",
        "colab": {
          "base_uri": "https://localhost:8080/"
        },
        "outputId": "94ed9124-429d-4491-be08-710014300061"
      },
      "execution_count": null,
      "outputs": [
        {
          "output_type": "execute_result",
          "data": {
            "text/plain": [
              "(0.7,\n",
              " 0.3,\n",
              " tensor([[0.8000],\n",
              "         [0.8200],\n",
              "         [0.8400],\n",
              "         [0.8600],\n",
              "         [0.8800],\n",
              "         [0.9000],\n",
              "         [0.9200],\n",
              "         [0.9400],\n",
              "         [0.9600],\n",
              "         [0.9800]]),\n",
              " tensor([[0.8600],\n",
              "         [0.8740],\n",
              "         [0.8880],\n",
              "         [0.9020],\n",
              "         [0.9160],\n",
              "         [0.9300],\n",
              "         [0.9440],\n",
              "         [0.9580],\n",
              "         [0.9720],\n",
              "         [0.9860]]))"
            ]
          },
          "metadata": {},
          "execution_count": 10
        }
      ]
    },
    {
      "cell_type": "markdown",
      "source": [
        "###Making prediction using torch.inference_mode ( )\n",
        "To check our model's predictive power, let's see how well it predicts y_test based on ✗_test.\n",
        "\n",
        "When we pass data through our model, it's going to run it through the forward () method."
      ],
      "metadata": {
        "id": "yjYBkHpYYxdT"
      }
    },
    {
      "cell_type": "code",
      "source": [
        "with torch.inference_mode():# it removes unwanted tracking during processes!\n",
        "  y_preds =model_0(X_test)\n",
        "#we can also use torch.no_grad(), however it is prefered to use inference!\n",
        "#y_preds == y_test"
      ],
      "metadata": {
        "id": "_AO3fGevYeLm"
      },
      "execution_count": null,
      "outputs": []
    },
    {
      "cell_type": "code",
      "source": [
        "plot_predictions(predections=y_preds)\n",
        "#When we plot this we will be getting lines off chart..because we have only assigned random values right now\n",
        "#as we know...model takes in random value and updates it!"
      ],
      "metadata": {
        "colab": {
          "base_uri": "https://localhost:8080/",
          "height": 471
        },
        "id": "J6te_qcvZFcO",
        "outputId": "644e8a02-cdbb-4e02-8607-6a653512e3c5"
      },
      "execution_count": null,
      "outputs": [
        {
          "output_type": "display_data",
          "data": {
            "text/plain": [
              "<Figure size 1000x700 with 1 Axes>"
            ],
            "image/png": "[encoded data removed]"
          },
          "metadata": {}
        }
      ]
    },
    {
      "cell_type": "markdown",
      "source": [
        "###Training phase:\n",
        "Until now the model is having some ref data and some random predicted data....now its time to understand the difference and train it to get good output.\n",
        "\n",
        "Poor representation -> good representation\n",
        "\n",
        "We can measure how much worng our model it by usin loss function!\n",
        "* We basically need 2 main function to train our model:\n",
        "  1.  **Loss fuction** (Finds the loss between our values)\n",
        "  2.  **Optimizer** (Adjusts the parmeter value)\n",
        "\n",
        "\n",
        " * For pytorch we also need 2 more things to train an model:\n",
        "  1. A training loop\n",
        "  2.A testing loop\n",
        "\n",
        "**NOTE:** we can find the parameters current values using model_0.state_dict()"
      ],
      "metadata": {
        "id": "ckeyMUNScDCj"
      }
    },
    {
      "cell_type": "code",
      "source": [
        "#Setup an LossFunction:\n",
        "loss_fn = nn.L1Loss()\n",
        "\n",
        "#Setup an Optimiser:\n",
        "optimizer = torch.optim.SGD(params=model_0.parameters(),\n",
        "                            lr=0.001)  #Stocastc Gradient Decent\n",
        "#It takes the parameters from the model then it will adjust the loss\n",
        "#lr => is the learning rate ie alpha..hyperparameter..ie we set it manually\n",
        "#Larger the learning rate larger the parameter"
      ],
      "metadata": {
        "id": "vdUAeJ4-ZaZs"
      },
      "execution_count": null,
      "outputs": []
    },
    {
      "cell_type": "markdown",
      "source": [
        "**Which loss function and optimizer should I use?**\n",
        "\n",
        " This will be problem specific. But with experience, you'll get an idea of what works and what doesn't with your particular\n",
        "problem set.\n",
        "For example, for a regression problem (like ours), a loss function of nn.L1Loss ( ) and an optimizer like torch.optim. SGD () will\n",
        "suffice.\n",
        "But for a classification problem like classifying whether a photo is of a dog or a cat, you'll likely want to use a loss function of\n",
        "nn. BCELOSS() (binary cross entropy loss)."
      ],
      "metadata": {
        "id": "HwKTWlhQpszz"
      }
    },
    {
      "cell_type": "markdown",
      "source": [
        "###Steps involved in building an training loop:\n",
        "A couple of things we need in a training loop:\n",
        "0. Loop through the data\n",
        "1. Forward pass (this involves data moving through our model's `forward ()`\n",
        "functions) to make predictions on data - also called forward propagation\n",
        "2. Calculate the loss (compare forward pass predictions to ground truth labels)\n",
        "3. Optimizer zero grad\n",
        "4. Loss backward - move backwards through the network to calculate the gradients of\n",
        "each of the parameters of our model with respect to the loss (**backpropagation**)\n",
        "5. Optimizer step - use the optimizer to adjust our model's parameters to try and\n",
        "improve the loss (**gradient descent**)\n",
        "\n",
        "#*THE BLEOW IS IMP LOOP FUNC:*"
      ],
      "metadata": {
        "id": "KAUSubGFryVC"
      }
    },
    {
      "cell_type": "code",
      "source": [
        "#epochs is one loop through the data..this is a hyperparameter because we've set it ourselves\n",
        "epochs = 100\n",
        "#loop thorugh the sata\n",
        "for epoch in range(epochs):\n",
        "  #set the model to training mode\n",
        "  model_0.train() #Trianing mode in Pytroch need all the parameter to do gradient\n",
        "\n",
        "  #1)forward pass\n",
        "  y_preds = model_0(X_train)\n",
        "\n",
        "  #2)Loss function\n",
        "  loss = loss_fn(y_preds,y_train)  # we need to : input first , targets next\n",
        "  if epoch%10 ==0:\n",
        "    print(f\"losss:{loss}\")\n",
        "  #3)Optimizer:\n",
        "  optimizer.zero_grad()\n",
        "\n",
        "  #4)Backprobagation to update the values:\n",
        "  loss.backward()\n",
        "\n",
        "  #5)To perform gradient decent\n",
        "  optimizer.step()\n",
        "\n",
        "###Testing\n",
        "# ✅ Training loop\n",
        "for epoch in range(epochs):\n",
        "  model_0.train()\n",
        "  y_preds = model_0(X_train)\n",
        "  loss = loss_fn(y_preds, y_train)\n",
        "  optimizer.zero_grad()\n",
        "  loss.backward()\n",
        "  optimizer.step()\n",
        "\n",
        "  # Optional: show progress every 10 epochs\n",
        "  if epoch % 10 == 0:\n",
        "    print(f\"Epoch {epoch} | Loss: {loss}\")\n",
        "\n",
        "# ✅ After training ends: do testing\n",
        "model_0.eval()  # Set to eval mode once\n",
        "if epoch%10 ==0:\n",
        "  print(\"Final model weights:\")\n",
        "  print(model_0.state_dict())\n",
        "\n",
        "with torch.inference_mode():  # no gradients here\n",
        "    test_preds = model_0(X_test)  #Forward pass\n",
        "    test_loss = loss_fn(test_preds, y_test) #Loss function\n",
        "    print(f\"Test Loss: {test_loss}\")\n",
        "\n"
      ],
      "metadata": {
        "id": "uG1-BDXoiyB3",
        "colab": {
          "base_uri": "https://localhost:8080/"
        },
        "outputId": "20841bfd-2ac1-44f5-84d4-d4a339901cf7"
      },
      "execution_count": null,
      "outputs": [
        {
          "output_type": "stream",
          "name": "stdout",
          "text": [
            "losss:0.31288138031959534\n",
            "losss:0.3013603389263153\n",
            "losss:0.28983938694000244\n",
            "losss:0.2783183455467224\n",
            "losss:0.26679736375808716\n",
            "losss:0.2552763819694519\n",
            "losss:0.24375538527965546\n",
            "losss:0.232234388589859\n",
            "losss:0.22071340680122375\n",
            "losss:0.2091923952102661\n",
            "Epoch 0 | Loss: 0.19767141342163086\n",
            "Epoch 10 | Loss: 0.18615040183067322\n",
            "Epoch 20 | Loss: 0.17462942004203796\n",
            "Epoch 30 | Loss: 0.16310855746269226\n",
            "Epoch 40 | Loss: 0.15158770978450775\n",
            "Epoch 50 | Loss: 0.14006686210632324\n",
            "Epoch 60 | Loss: 0.12854602932929993\n",
            "Epoch 70 | Loss: 0.11702518165111542\n",
            "Epoch 80 | Loss: 0.10654274374246597\n",
            "Epoch 90 | Loss: 0.09747617691755295\n",
            "Test Loss: 0.22904661297798157\n"
          ]
        }
      ]
    },
    {
      "cell_type": "code",
      "source": [
        "#The weight i assigned we near 0.7 and bias was 0.8...the accquired tensor was close to it!\n",
        "#forward pass -> loss func -> zero grad -> backproab -> optimizer"
      ],
      "metadata": {
        "id": "v-6mqw7SB21r"
      },
      "execution_count": null,
      "outputs": []
    },
    {
      "cell_type": "markdown",
      "source": [
        "###Testing:"
      ],
      "metadata": {
        "id": "ivnn5uRrSSit"
      }
    },
    {
      "cell_type": "code",
      "source": [
        "with torch.inference_mode():\n",
        "  y_preds_new = model_0(X_test)\n",
        "  plot_predictions(predections=y_preds_new)"
      ],
      "metadata": {
        "colab": {
          "base_uri": "https://localhost:8080/",
          "height": 471
        },
        "id": "-dvgXYZ8ruMk",
        "outputId": "7d5e7619-d512-425c-ab31-7cd65d4ccbb5"
      },
      "execution_count": null,
      "outputs": [
        {
          "output_type": "display_data",
          "data": {
            "text/plain": [
              "<Figure size 1000x700 with 1 Axes>"
            ],
            "image/png": "[encoded data removed]"
          },
          "metadata": {}
        }
      ]
    },
    {
      "cell_type": "markdown",
      "source": [
        "Vetttrriiiiiii!!!!!!!!!"
      ],
      "metadata": {
        "id": "pBK27FXauRNQ"
      }
    },
    {
      "cell_type": "markdown",
      "source": [
        "**Some code below is removed and also some are present with certain level of Bug! Needed to be fixed!**"
      ],
      "metadata": {
        "id": "hyYd8jBX98xV"
      }
    },
    {
      "cell_type": "code",
      "source": [
        "#Plot the loss curves\n",
        "plt.plot(epoch_count, np.array (torch. tensor (loss_values). numpy()), label=\"Train loss\")\n",
        "plt.plot(epoch_count, test_loss_values, label=\"Test loss\")\n",
        "plt.title(\"Training and test loss curves\")\n",
        "plt.ylabel(\"Loss\")\n",
        "plt.xlabel(\"Epochs\")\n",
        "plt.legend(); I"
      ],
      "metadata": {
        "colab": {
          "base_uri": "https://localhost:8080/",
          "height": 228
        },
        "id": "FuhPa59luTIq",
        "outputId": "a01ddf59-7384-48f6-8475-864bb49e6749"
      },
      "execution_count": null,
      "outputs": [
        {
          "output_type": "error",
          "ename": "NameError",
          "evalue": "name 'epoch_count' is not defined",
          "traceback": [
            "\u001b[0;31m---------------------------------------------------------------------------\u001b[0m",
            "\u001b[0;31mNameError\u001b[0m                                 Traceback (most recent call last)",
            "\u001b[0;32m<ipython-input-17-03205300884d>\u001b[0m in \u001b[0;36m<cell line: 0>\u001b[0;34m()\u001b[0m\n\u001b[1;32m      1\u001b[0m \u001b[0;31m#Plot the loss curves\u001b[0m\u001b[0;34m\u001b[0m\u001b[0;34m\u001b[0m\u001b[0m\n\u001b[0;32m----> 2\u001b[0;31m \u001b[0mplt\u001b[0m\u001b[0;34m.\u001b[0m\u001b[0mplot\u001b[0m\u001b[0;34m(\u001b[0m\u001b[0mepoch_count\u001b[0m\u001b[0;34m,\u001b[0m \u001b[0mnp\u001b[0m\u001b[0;34m.\u001b[0m\u001b[0marray\u001b[0m \u001b[0;34m(\u001b[0m\u001b[0mtorch\u001b[0m\u001b[0;34m.\u001b[0m \u001b[0mtensor\u001b[0m \u001b[0;34m(\u001b[0m\u001b[0mloss_values\u001b[0m\u001b[0;34m)\u001b[0m\u001b[0;34m.\u001b[0m \u001b[0mnumpy\u001b[0m\u001b[0;34m(\u001b[0m\u001b[0;34m)\u001b[0m\u001b[0;34m)\u001b[0m\u001b[0;34m,\u001b[0m \u001b[0mlabel\u001b[0m\u001b[0;34m=\u001b[0m\u001b[0;34m\"Train loss\"\u001b[0m\u001b[0;34m)\u001b[0m\u001b[0;34m\u001b[0m\u001b[0;34m\u001b[0m\u001b[0m\n\u001b[0m\u001b[1;32m      3\u001b[0m \u001b[0mplt\u001b[0m\u001b[0;34m.\u001b[0m\u001b[0mplot\u001b[0m\u001b[0;34m(\u001b[0m\u001b[0mepoch_count\u001b[0m\u001b[0;34m,\u001b[0m \u001b[0mtest_loss_values\u001b[0m\u001b[0;34m,\u001b[0m \u001b[0mlabel\u001b[0m\u001b[0;34m=\u001b[0m\u001b[0;34m\"Test loss\"\u001b[0m\u001b[0;34m)\u001b[0m\u001b[0;34m\u001b[0m\u001b[0;34m\u001b[0m\u001b[0m\n\u001b[1;32m      4\u001b[0m \u001b[0mplt\u001b[0m\u001b[0;34m.\u001b[0m\u001b[0mtitle\u001b[0m\u001b[0;34m(\u001b[0m\u001b[0;34m\"Training and test loss curves\"\u001b[0m\u001b[0;34m)\u001b[0m\u001b[0;34m\u001b[0m\u001b[0;34m\u001b[0m\u001b[0m\n\u001b[1;32m      5\u001b[0m \u001b[0mplt\u001b[0m\u001b[0;34m.\u001b[0m\u001b[0mylabel\u001b[0m\u001b[0;34m(\u001b[0m\u001b[0;34m\"Loss\"\u001b[0m\u001b[0;34m)\u001b[0m\u001b[0;34m\u001b[0m\u001b[0;34m\u001b[0m\u001b[0m\n",
            "\u001b[0;31mNameError\u001b[0m: name 'epoch_count' is not defined"
          ]
        }
      ]
    },
    {
      "cell_type": "code",
      "source": [],
      "metadata": {
        "id": "r9HKf_UBneYt"
      },
      "execution_count": null,
      "outputs": []
    }
  ]
}