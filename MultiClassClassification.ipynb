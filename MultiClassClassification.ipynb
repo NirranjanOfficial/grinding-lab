{
  "nbformat": 4,
  "nbformat_minor": 0,
  "metadata": {
    "colab": {
      "provenance": [],
      "gpuType": "T4",
      "authorship_tag": "ABX9TyN5iIiwv7ExVo10XK1iCNrB"
    },
    "kernelspec": {
      "name": "python3",
      "display_name": "Python 3"
    },
    "language_info": {
      "name": "python"
    },
    "accelerator": "GPU"
  },
  "cells": [
    {
      "cell_type": "code",
      "execution_count": 1,
      "metadata": {
        "id": "0NhjIxrmEl_T"
      },
      "outputs": [],
      "source": [
        "import torch\n",
        "import torchvision\n",
        "import torch.nn as nn\n",
        "import torch.optim as optim\n",
        "import torch.nn.functional as functional\n",
        "import torchvision.transforms as transforms\n",
        "\n",
        "import numpy as np\n",
        "from PIL import Image\n"
      ]
    },
    {
      "cell_type": "code",
      "source": [
        "transform = transforms.Compose([\n",
        "    transforms.ToTensor(),\n",
        "    transforms.Normalize((0.5, 0.5, 0.5), (0.5, 0.5, 0.5))\n",
        "])"
      ],
      "metadata": {
        "id": "yBYuMF8L-nkv"
      },
      "execution_count": 2,
      "outputs": []
    },
    {
      "cell_type": "code",
      "source": [
        "train_data = torchvision.datasets.CIFAR10(root='./data', train=True, download=True, transform=transform)\n",
        "test_data = torchvision.datasets.CIFAR10(root='./data', train=False, download=True, transform=transform)\n",
        "\n",
        "train_loader = torch.utils.data.DataLoader(train_data, batch_size=32, shuffle =True, num_workers=2)\n",
        "test_loader = torch.utils.data.DataLoader(test_data, batch_size=32, shuffle =True, num_workers=2)"
      ],
      "metadata": {
        "id": "WH6W3WU_-60_",
        "colab": {
          "base_uri": "https://localhost:8080/"
        },
        "outputId": "89065b6e-4725-4a25-975f-ec7a2db1b1e3"
      },
      "execution_count": 3,
      "outputs": [
        {
          "output_type": "stream",
          "name": "stderr",
          "text": [
            "100%|██████████| 170M/170M [00:13<00:00, 12.5MB/s]\n"
          ]
        }
      ]
    },
    {
      "cell_type": "code",
      "source": [
        "image , label = train_data[0]\n",
        "image.size()"
      ],
      "metadata": {
        "colab": {
          "base_uri": "https://localhost:8080/"
        },
        "id": "UMBjcrVF_9I_",
        "outputId": "df7f4c31-6d78-4a74-e071-b33d1adc1e6c"
      },
      "execution_count": 4,
      "outputs": [
        {
          "output_type": "execute_result",
          "data": {
            "text/plain": [
              "torch.Size([3, 32, 32])"
            ]
          },
          "metadata": {},
          "execution_count": 4
        }
      ]
    },
    {
      "cell_type": "code",
      "source": [
        "class_names = ['plane','cars','bird','cat','deer','dog','frog','horse','ship','truck']\n"
      ],
      "metadata": {
        "id": "RRg2Vw3WAQHX"
      },
      "execution_count": 5,
      "outputs": []
    },
    {
      "cell_type": "code",
      "source": [
        "class NeuralNet(nn.Module):\n",
        "  def __init__(self):\n",
        "    super().__init__()\n",
        "\n",
        "    self.conv1 = nn.Conv2d(\n",
        "        in_channels = 3,\n",
        "        out_channels = 12,\n",
        "        kernel_size = 5\n",
        "    )  #the 3 is taken from the image.size, we need 12x12 as output channel!\n",
        "    self.pool = nn.MaxPool2d(kernel_size = 2 , stride = 2) #(2,2)\n",
        "    self.conv2 = nn.Conv2d(\n",
        "        in_channels = 12,\n",
        "        out_channels = 24,\n",
        "        kernel_size = 5\n",
        "        )            #nxt layer becomes = ([24,5,5])\n",
        "    self.fc1 = nn.Linear(in_features = 24*5*5, out_features = 120)  #flatterning it up!\n",
        "    self.fc2 = nn.Linear(in_features = 120, out_features = 84)\n",
        "    self.fc3 = nn.Linear(in_features = 84, out_features = 10) #10 is must ie 10 classes\n",
        "\n",
        "\n",
        "  def forward(self,x):\n",
        "    x =self.pool(functional.relu(self.conv1(x))) # we used ReLu to reduce linearity\n",
        "    x =self.pool(functional.relu(self.conv2(x)))\n",
        "    x = torch.flatten(x,1)\n",
        "    x = functional.relu(self.fc1(x))\n",
        "    x = functional.relu(self.fc2(x))\n",
        "    x = self.fc3(x)\n",
        "    return x"
      ],
      "metadata": {
        "id": "84Aqf8FYAmnH"
      },
      "execution_count": 6,
      "outputs": []
    },
    {
      "cell_type": "markdown",
      "source": [
        "Conv2d:\n",
        "After the conv layer we nned to know the current shape of the image\n",
        "  to do that we need to, ((Size-Kernel)//Stride+1)\n",
        "  Here the stride is the no of pikels our kernel moves one time!\n",
        "  ([3,32,32]) -> ([12,28,28])\n",
        "\n",
        "Maxpool2d:\n",
        "  after maxpool we get with current size/stride\n",
        "  ([12,28,28]) -> ([12,14,14])"
      ],
      "metadata": {
        "id": "--PxD_3BA_wg"
      }
    },
    {
      "cell_type": "code",
      "source": [
        "net = NeuralNet()\n",
        "loss_function = nn.CrossEntropyLoss()\n",
        "optimizer = optim.SGD(net.parameters(), lr=0.01,momentum=0.9)\n"
      ],
      "metadata": {
        "id": "dmQgqKV9Cpz1"
      },
      "execution_count": 7,
      "outputs": []
    },
    {
      "cell_type": "code",
      "source": [
        "for epoch in range(8):\n",
        "  print(f\"Training epoch:{epoch}...\")\n",
        "  running_loss = 0\n",
        "  for i, data in enumerate(train_loader):\n",
        "    inputs, labels = data\n",
        "    optimizer.zero_grad()\n",
        "    outputs = net(inputs)\n",
        "    loss = loss_function(outputs, labels)\n",
        "    loss.backward()\n",
        "    optimizer.step()\n",
        "    running_loss += loss.item()\n",
        "  print(f\"Loss:{running_loss/len(train_loader):.4f}\")"
      ],
      "metadata": {
        "colab": {
          "base_uri": "https://localhost:8080/"
        },
        "id": "zM4fO3NFDW8L",
        "outputId": "1e814a8d-09db-4e2a-c9d9-e97ac6dd3d9c"
      },
      "execution_count": 9,
      "outputs": [
        {
          "output_type": "stream",
          "name": "stdout",
          "text": [
            "Training epoch:0...\n",
            "Loss:0.7426\n",
            "Training epoch:1...\n",
            "Loss:0.7039\n",
            "Training epoch:2...\n",
            "Loss:0.6726\n",
            "Training epoch:3...\n",
            "Loss:0.6455\n",
            "Training epoch:4...\n",
            "Loss:0.6173\n",
            "Training epoch:5...\n",
            "Loss:0.6095\n",
            "Training epoch:6...\n",
            "Loss:0.5906\n",
            "Training epoch:7...\n",
            "Loss:0.5725\n"
          ]
        }
      ]
    },
    {
      "cell_type": "markdown",
      "source": [
        "Now as the mmodel is trained we need to export and save it , but we dont need the entire model...so we need to save only the weight and bias so we can reuse it!"
      ],
      "metadata": {
        "id": "_ZTUxnfG6WQj"
      }
    },
    {
      "cell_type": "code",
      "source": [
        "torch.save(net.state_dict(),'trained_net.pth')"
      ],
      "metadata": {
        "id": "_DJYpSQO58Hv"
      },
      "execution_count": 10,
      "outputs": []
    },
    {
      "cell_type": "code",
      "source": [
        "net = NeuralNet()\n",
        "net.load_state_dict(torch.load('trained_net.pth'))\n"
      ],
      "metadata": {
        "colab": {
          "base_uri": "https://localhost:8080/"
        },
        "id": "v6MmD86C6QjP",
        "outputId": "a90e78c2-0917-4af4-9ae6-1ae5c8f4ed5e"
      },
      "execution_count": 11,
      "outputs": [
        {
          "output_type": "execute_result",
          "data": {
            "text/plain": [
              "<All keys matched successfully>"
            ]
          },
          "metadata": {},
          "execution_count": 11
        }
      ]
    },
    {
      "cell_type": "code",
      "source": [
        "correct = 0\n",
        "total = 0\n",
        "net.eval()\n",
        "\n",
        "with torch.no_grad(): # to avoid Gradient calc since we arent training...\n",
        "  for data in test_loader:\n",
        "    images, labels = data\n",
        "    outputs = net(images) #our neural network applied to the images\n",
        "    _, predicted = torch.max(outputs.data, 1)  #onw thing with highest activation ie the label\n",
        "    total += labels.size(0)\n",
        "    correct += (predicted == labels).sum().item()\n",
        "#how many are classifed correctlyy!!\n",
        "\n",
        "accuracy = 100*correct/total\n",
        "print(f\"Accuracy:{accuracy}%\")"
      ],
      "metadata": {
        "colab": {
          "base_uri": "https://localhost:8080/"
        },
        "id": "Ve0vtAbP6qGx",
        "outputId": "e3c3ce85-d514-4f67-f2a3-12483673fb65"
      },
      "execution_count": 12,
      "outputs": [
        {
          "output_type": "stream",
          "name": "stdout",
          "text": [
            "Accuracy:66.16%\n"
          ]
        }
      ]
    },
    {
      "cell_type": "markdown",
      "source": [
        "Here we might get lower accuracy as we gave low epoch...increase it !\n"
      ],
      "metadata": {
        "id": "uNobnQDm7fBL"
      }
    },
    {
      "cell_type": "code",
      "source": [
        "import random\n",
        "import matplotlib.pyplot as plt\n",
        "import numpy as np\n",
        "\n",
        "# Function to unnormalize and show image\n",
        "def imshow(img):\n",
        "    img = img / 2 + 0.5  # Unnormalize\n",
        "    npimg = img.numpy()\n",
        "    plt.imshow(np.transpose(npimg, (1, 2, 0)))\n",
        "    plt.axis('off')\n",
        "    plt.show()\n",
        "\n",
        "# Get a random index\n",
        "random_index = random.randint(0, len(test_data) - 1)\n",
        "\n",
        "# Get the image and label\n",
        "image, label = test_data[random_index]\n",
        "\n",
        "# Display the image\n",
        "print(\"Actual label:\", class_names[label])\n",
        "imshow(image)\n",
        "\n",
        "# Prepare image for model (add batch dimension)\n",
        "image_tensor = image.unsqueeze(0)  # Shape: [1, 3, 32, 32]\n",
        "\n",
        "# Set model to evaluation mode\n",
        "net.eval()\n",
        "\n",
        "# Predict\n",
        "with torch.no_grad():\n",
        "    output = net(image_tensor)\n",
        "    _, predicted = torch.max(output, 1)\n",
        "    predicted_class = class_names[predicted.item()]\n",
        "\n",
        "print(\"Predicted label:\", predicted_class)\n"
      ],
      "metadata": {
        "colab": {
          "base_uri": "https://localhost:8080/",
          "height": 441
        },
        "id": "xUhRQ7LR7lsB",
        "outputId": "e404d4ba-c38c-4f26-c308-42c37f34ba86"
      },
      "execution_count": 14,
      "outputs": [
        {
          "output_type": "stream",
          "name": "stdout",
          "text": [
            "Actual label: cars\n"
          ]
        },
        {
          "output_type": "display_data",
          "data": {
            "text/plain": [
              "<Figure size 640x480 with 1 Axes>"
            ],
            "image/png": "[encoded data removed]"
          },
          "metadata": {}
        },
        {
          "output_type": "stream",
          "name": "stdout",
          "text": [
            "Predicted label: cars\n"
          ]
        }
      ]
    },
    {
      "cell_type": "markdown",
      "source": [
        "This CNN isnt accurate enough...might need to increase the epoch to 5 or something...!"
      ],
      "metadata": {
        "id": "CXr5ScxY8VZW"
      }
    },
    {
      "cell_type": "markdown",
      "source": [
        "need to look into this!\n",
        "Notes: Possible Improvements for the CIFAR-10 Classifier\n",
        "\n",
        "Use data augmentation (like random flips or crops) to improve generalization.\n",
        "\n",
        "Train for more epochs (e.g., 50–100) to allow the model to learn better.\n",
        "\n",
        "Replace SGD with Adam optimizer for faster and more stable convergence.\n",
        "\n",
        "Add regularization techniques such as Dropout and Batch Normalization to prevent overfitting.\n",
        "\n",
        "Use GPU for faster training if available.\n",
        "\n",
        "Visualize misclassified images to understand where the model is going wrong.\n",
        "\n",
        "Use pretrained models (transfer learning) like ResNet, VGG, or MobileNet for better performance.\n",
        "\n",
        "Track training and validation accuracy/loss using graphs for better debugging.\n",
        "\n",
        "Save and load the trained model for reuse without retraining.\n",
        "\n",
        "Evaluate the model using a confusion matrix and classification report for a deeper performance analysis."
      ],
      "metadata": {
        "id": "gKHGXMgw88Q_"
      }
    },
    {
      "cell_type": "code",
      "source": [],
      "metadata": {
        "id": "ngbasSVM88pE"
      },
      "execution_count": null,
      "outputs": []
    }
  ]
}