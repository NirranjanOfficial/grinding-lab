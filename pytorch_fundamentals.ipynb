{
  "nbformat": 4,
  "nbformat_minor": 0,
  "metadata": {
    "colab": {
      "provenance": [],
      "gpuType": "T4",
      "collapsed_sections": [
        "IfVdhOfowJux",
        "QJMK3iUDZ24p",
        "ttp8hRq9YtXz",
        "vGPsD3kgiJaJ",
        "BOTWn-7qn862",
        "CIuQL_l-o0cv",
        "iJf_rUBInpAP",
        "LPlua8idpmWy",
        "_yhO6_xRrcLR",
        "-7M_0MQ-bmmk"
      ],
      "authorship_tag": "ABX9TyPCpBP8xzSiUJIiPgKL4CIy",
      "include_colab_link": true
    },
    "kernelspec": {
      "name": "python3",
      "display_name": "Python 3"
    },
    "language_info": {
      "name": "python"
    },
    "accelerator": "GPU"
  },
  "cells": [
    {
      "cell_type": "markdown",
      "metadata": {
        "id": "view-in-github",
        "colab_type": "text"
      },
      "source": [
        "<a href=\"https://colab.research.google.com/github/NirranjanOfficial/grinding-lab/blob/main/pytorch_fundamentals.ipynb\" target=\"_parent\"><img src=\"https://colab.research.google.com/assets/colab-badge.svg\" alt=\"Open In Colab\"/></a>"
      ]
    },
    {
      "cell_type": "markdown",
      "source": [
        "###Imports:"
      ],
      "metadata": {
        "id": "IfVdhOfowJux"
      }
    },
    {
      "cell_type": "code",
      "execution_count": null,
      "metadata": {
        "id": "-J0zx78lgB-9",
        "colab": {
          "base_uri": "https://localhost:8080/"
        },
        "outputId": "0aae9584-eca7-4479-8236-210d2cd3d2c0"
      },
      "outputs": [
        {
          "output_type": "stream",
          "name": "stdout",
          "text": [
            "2.6.0+cu124\n"
          ]
        }
      ],
      "source": [
        "import torch\n",
        "import numpy as np\n",
        "import pandas as pd\n",
        "import matplotlib.pyplot as plt\n",
        "import seaborn as sns   #used for statistical plotting\n",
        "import sklearn #blahhh\n",
        "print(torch.__version__)"
      ]
    },
    {
      "cell_type": "markdown",
      "source": [
        "**Introduction to Tensors:**\n",
        "\n"
      ],
      "metadata": {
        "id": "VCx_5jQx7503"
      }
    },
    {
      "cell_type": "markdown",
      "source": [
        "###Creating different dim values:"
      ],
      "metadata": {
        "id": "QJMK3iUDZ24p"
      }
    },
    {
      "cell_type": "code",
      "source": [
        "#scalar tensor\n",
        "scalar = torch.tensor(7)\n",
        "scalar"
      ],
      "metadata": {
        "colab": {
          "base_uri": "https://localhost:8080/"
        },
        "id": "_wcP0QAc7-Iu",
        "outputId": "9909fc3c-a4da-441c-b4b1-5d72097e745f"
      },
      "execution_count": null,
      "outputs": [
        {
          "output_type": "execute_result",
          "data": {
            "text/plain": [
              "tensor(7)"
            ]
          },
          "metadata": {},
          "execution_count": 3
        }
      ]
    },
    {
      "cell_type": "code",
      "source": [
        "scalar.ndim #to find the number of dim of the tensor which in this case is 0"
      ],
      "metadata": {
        "colab": {
          "base_uri": "https://localhost:8080/"
        },
        "id": "0eaKSYfM8WsX",
        "outputId": "220a759c-fb04-4954-f237-95e1b4bf4885"
      },
      "execution_count": null,
      "outputs": [
        {
          "output_type": "execute_result",
          "data": {
            "text/plain": [
              "0"
            ]
          },
          "metadata": {},
          "execution_count": 4
        }
      ]
    },
    {
      "cell_type": "code",
      "source": [
        "scalar.item()  #used to print out the item from the tensor"
      ],
      "metadata": {
        "colab": {
          "base_uri": "https://localhost:8080/"
        },
        "id": "xo1iJhc88hDF",
        "outputId": "4ad9c8ee-a5f9-4ca7-a5e7-29332f2c0165"
      },
      "execution_count": null,
      "outputs": [
        {
          "output_type": "execute_result",
          "data": {
            "text/plain": [
              "7"
            ]
          },
          "metadata": {},
          "execution_count": 5
        }
      ]
    },
    {
      "cell_type": "code",
      "source": [
        "#Vector\n",
        "vector = torch.tensor([7,7])\n",
        "vector"
      ],
      "metadata": {
        "colab": {
          "base_uri": "https://localhost:8080/"
        },
        "id": "FtEGktTx8jxo",
        "outputId": "799f24ee-c3ef-4637-bdd6-329582b9dbf9"
      },
      "execution_count": null,
      "outputs": [
        {
          "output_type": "execute_result",
          "data": {
            "text/plain": [
              "tensor([7, 7])"
            ]
          },
          "metadata": {},
          "execution_count": 6
        }
      ]
    },
    {
      "cell_type": "code",
      "source": [
        "vector.ndim  #it gives out 1 dim"
      ],
      "metadata": {
        "colab": {
          "base_uri": "https://localhost:8080/"
        },
        "id": "aKUstn4K9Oim",
        "outputId": "d1f80ad9-354b-4cff-b66c-7f4fd640bd49"
      },
      "execution_count": null,
      "outputs": [
        {
          "output_type": "execute_result",
          "data": {
            "text/plain": [
              "1"
            ]
          },
          "metadata": {},
          "execution_count": 7
        }
      ]
    },
    {
      "cell_type": "code",
      "source": [
        "vector.shape   #where shape prints 2"
      ],
      "metadata": {
        "colab": {
          "base_uri": "https://localhost:8080/"
        },
        "id": "uYWN62LJ9QtO",
        "outputId": "35befa5e-36a3-49b0-dcad-3c1e5ea02228"
      },
      "execution_count": null,
      "outputs": [
        {
          "output_type": "execute_result",
          "data": {
            "text/plain": [
              "torch.Size([2])"
            ]
          },
          "metadata": {},
          "execution_count": 8
        }
      ]
    },
    {
      "cell_type": "code",
      "source": [
        "#MATRIX\n",
        "MATRIX = torch.tensor([[7,8],[9,10]])\n",
        "MATRIX"
      ],
      "metadata": {
        "colab": {
          "base_uri": "https://localhost:8080/"
        },
        "id": "0xs5arkX9dV5",
        "outputId": "6d4fa231-ebba-403a-b352-da42f7b2c52c"
      },
      "execution_count": null,
      "outputs": [
        {
          "output_type": "execute_result",
          "data": {
            "text/plain": [
              "tensor([[ 7,  8],\n",
              "        [ 9, 10]])"
            ]
          },
          "metadata": {},
          "execution_count": 9
        }
      ]
    },
    {
      "cell_type": "code",
      "source": [
        "MATRIX.ndim"
      ],
      "metadata": {
        "colab": {
          "base_uri": "https://localhost:8080/"
        },
        "id": "aQ2wij769nQk",
        "outputId": "a1b2916a-fff7-4b93-9f58-a24e401a9533"
      },
      "execution_count": null,
      "outputs": [
        {
          "output_type": "execute_result",
          "data": {
            "text/plain": [
              "2"
            ]
          },
          "metadata": {},
          "execution_count": 10
        }
      ]
    },
    {
      "cell_type": "code",
      "source": [
        "MATRIX.shape"
      ],
      "metadata": {
        "colab": {
          "base_uri": "https://localhost:8080/"
        },
        "id": "ZQjCI28S9p_c",
        "outputId": "5de54bb3-7684-4c9d-d654-884f62e74000"
      },
      "execution_count": null,
      "outputs": [
        {
          "output_type": "execute_result",
          "data": {
            "text/plain": [
              "torch.Size([2, 2])"
            ]
          },
          "metadata": {},
          "execution_count": 11
        }
      ]
    },
    {
      "cell_type": "code",
      "source": [
        "#TENSOR\n",
        "TENSOR = torch.tensor([[[1,2,3],\n",
        "                        [4,5,6],\n",
        "                        [6,7,8]]])\n",
        "TENSOR"
      ],
      "metadata": {
        "colab": {
          "base_uri": "https://localhost:8080/"
        },
        "id": "UaJcOoax9ueX",
        "outputId": "19fa5de2-47c8-46fc-f746-8d91a7d0a6e7"
      },
      "execution_count": null,
      "outputs": [
        {
          "output_type": "execute_result",
          "data": {
            "text/plain": [
              "tensor([[[1, 2, 3],\n",
              "         [4, 5, 6],\n",
              "         [6, 7, 8]]])"
            ]
          },
          "metadata": {},
          "execution_count": 12
        }
      ]
    },
    {
      "cell_type": "code",
      "source": [
        "TENSOR.shape  #it says 1 3x3 tensor is there"
      ],
      "metadata": {
        "colab": {
          "base_uri": "https://localhost:8080/"
        },
        "id": "J5mr_ygP-e6m",
        "outputId": "9a43d8fe-1d0e-421f-eb08-5456e95d0e5b"
      },
      "execution_count": null,
      "outputs": [
        {
          "output_type": "execute_result",
          "data": {
            "text/plain": [
              "torch.Size([1, 3, 3])"
            ]
          },
          "metadata": {},
          "execution_count": 13
        }
      ]
    },
    {
      "cell_type": "code",
      "source": [
        "scalar_tensor = torch.tensor(5)\n",
        "vector_tensor = torch.tensor([1, 2, 3])\n",
        "matrix_tensor = torch.tensor([[1, 2], [3, 4]])\n",
        "three_d_tensor = torch.tensor([[[1, 2], [3, 4]], [[5, 6], [7, 8]]])\n",
        "\n",
        "print(f\"Scalar ndim: {scalar_tensor.ndim}\")\n",
        "print(f\"Vector ndim: {vector_tensor.ndim}\")\n",
        "print(f\"Matrix ndim: {matrix_tensor.ndim}\")\n",
        "print(f\"3D tensor ndim: {three_d_tensor.ndim}\")"
      ],
      "metadata": {
        "colab": {
          "base_uri": "https://localhost:8080/"
        },
        "id": "XOA-hOeLZanh",
        "outputId": "42774417-77b7-4d7b-e0db-24983dc80b0d"
      },
      "execution_count": null,
      "outputs": [
        {
          "output_type": "stream",
          "name": "stdout",
          "text": [
            "Scalar ndim: 0\n",
            "Vector ndim: 1\n",
            "Matrix ndim: 2\n",
            "3D tensor ndim: 3\n"
          ]
        }
      ]
    },
    {
      "cell_type": "markdown",
      "source": [
        "###Random Tensor"
      ],
      "metadata": {
        "id": "ttp8hRq9YtXz"
      }
    },
    {
      "cell_type": "markdown",
      "source": [
        "Random tensors are usually created and then it is updated based on the requirement!"
      ],
      "metadata": {
        "id": "K_NsaxSeYzuD"
      }
    },
    {
      "cell_type": "code",
      "source": [
        "random_tensor =torch.rand(3,3)\n",
        "random_tensor #the datatype fo this is Float32 which is default until we specifty"
      ],
      "metadata": {
        "colab": {
          "base_uri": "https://localhost:8080/"
        },
        "id": "hHYdeMhiYvkN",
        "outputId": "1584eb4e-be5e-4848-ded4-006f601c631b"
      },
      "execution_count": null,
      "outputs": [
        {
          "output_type": "execute_result",
          "data": {
            "text/plain": [
              "tensor([[0.4695, 0.1204, 0.1765],\n",
              "        [0.9586, 0.8871, 0.5742],\n",
              "        [0.3272, 0.7339, 0.3139]])"
            ]
          },
          "metadata": {},
          "execution_count": 15
        }
      ]
    },
    {
      "cell_type": "code",
      "source": [
        "random_tensor.ndim  #based on the number of params i give the op is given...\n",
        "                    #like if i give (1,2,3) 1T 2R 3C => i get ndim=3"
      ],
      "metadata": {
        "colab": {
          "base_uri": "https://localhost:8080/"
        },
        "id": "wbY9pHgZZFw_",
        "outputId": "18afdb34-7982-42a4-ad58-c0859a145577"
      },
      "execution_count": null,
      "outputs": [
        {
          "output_type": "execute_result",
          "data": {
            "text/plain": [
              "2"
            ]
          },
          "metadata": {},
          "execution_count": 16
        }
      ]
    },
    {
      "cell_type": "code",
      "source": [
        "#Creating a random tensor with similar to image tensor\n",
        "random_image_size_tensor = torch.rand(size=(3,224,224))  #Color channel, Height , Width\n",
        "random_image_size_tensor.shape, random_image_size_tensor.ndim  #prints out the shape of the sensor[C,H,W] and ndim of it !"
      ],
      "metadata": {
        "colab": {
          "base_uri": "https://localhost:8080/"
        },
        "id": "sum118woZQgR",
        "outputId": "542c86ae-7c69-428b-ee61-4ef489618709"
      },
      "execution_count": null,
      "outputs": [
        {
          "output_type": "execute_result",
          "data": {
            "text/plain": [
              "(torch.Size([3, 224, 224]), 3)"
            ]
          },
          "metadata": {},
          "execution_count": 17
        }
      ]
    },
    {
      "cell_type": "code",
      "source": [
        "#Zero tensor\n",
        "zero_tensor = torch.zeros(3,3)\n",
        "zero_tensor\n",
        "\n",
        "#One tensor\n",
        "one_tensor = torch.ones(3,3)\n",
        "one_tensor"
      ],
      "metadata": {
        "colab": {
          "base_uri": "https://localhost:8080/"
        },
        "id": "mUUCDnhybcyR",
        "outputId": "6d91e7a7-a3f2-45ac-e7c9-0a1257be2eb6"
      },
      "execution_count": null,
      "outputs": [
        {
          "output_type": "execute_result",
          "data": {
            "text/plain": [
              "tensor([[1., 1., 1.],\n",
              "        [1., 1., 1.],\n",
              "        [1., 1., 1.]])"
            ]
          },
          "metadata": {},
          "execution_count": 18
        }
      ]
    },
    {
      "cell_type": "code",
      "source": [
        "mat = zero_tensor * random_tensor\n",
        "mat"
      ],
      "metadata": {
        "colab": {
          "base_uri": "https://localhost:8080/"
        },
        "id": "eaFbSDpge3bU",
        "outputId": "d0654368-0f96-4e35-d0fe-b3a58818cc92"
      },
      "execution_count": null,
      "outputs": [
        {
          "output_type": "execute_result",
          "data": {
            "text/plain": [
              "tensor([[0., 0., 0.],\n",
              "        [0., 0., 0.],\n",
              "        [0., 0., 0.]])"
            ]
          },
          "metadata": {},
          "execution_count": 19
        }
      ]
    },
    {
      "cell_type": "code",
      "source": [
        "###creating tensors within a range"
      ],
      "metadata": {
        "id": "PMmddqiLfKOM"
      },
      "execution_count": null,
      "outputs": []
    },
    {
      "cell_type": "code",
      "source": [
        "one2ten = torch.arange(0,11)\n",
        "one2ten"
      ],
      "metadata": {
        "colab": {
          "base_uri": "https://localhost:8080/"
        },
        "id": "Ty_ZFiR2gL7Z",
        "outputId": "ac6de200-9108-42c6-9126-e766ce1451ce"
      },
      "execution_count": null,
      "outputs": [
        {
          "output_type": "execute_result",
          "data": {
            "text/plain": [
              "tensor([ 0,  1,  2,  3,  4,  5,  6,  7,  8,  9, 10])"
            ]
          },
          "metadata": {},
          "execution_count": 21
        }
      ]
    },
    {
      "cell_type": "code",
      "source": [
        "ten0 = torch.zeros_like(one2ten)  #generates tensor of zeros with same shape as ip\n",
        "ten0"
      ],
      "metadata": {
        "colab": {
          "base_uri": "https://localhost:8080/"
        },
        "id": "vkF08_ubgUat",
        "outputId": "f833506e-433a-444b-c5de-2f0fe5d14de9"
      },
      "execution_count": null,
      "outputs": [
        {
          "output_type": "execute_result",
          "data": {
            "text/plain": [
              "tensor([0, 0, 0, 0, 0, 0, 0, 0, 0, 0, 0])"
            ]
          },
          "metadata": {},
          "execution_count": 22
        }
      ]
    },
    {
      "cell_type": "code",
      "source": [
        "###Experiment!!!!\n",
        "\n",
        "ra = torch.rand(3,2,3)\n",
        "sa = torch.rand_like(ra)  #created an similar tensor\n",
        "wa = sa*ra\n",
        "wa"
      ],
      "metadata": {
        "colab": {
          "base_uri": "https://localhost:8080/"
        },
        "id": "YsGI65OAhadl",
        "outputId": "439f017e-4e82-4caf-fbf5-316d9584f750"
      },
      "execution_count": null,
      "outputs": [
        {
          "output_type": "execute_result",
          "data": {
            "text/plain": [
              "tensor([[[0.0370, 0.2969, 0.0962],\n",
              "         [0.0838, 0.1060, 0.3217]],\n",
              "\n",
              "        [[0.0227, 0.2267, 0.6771],\n",
              "         [0.0283, 0.0384, 0.2816]],\n",
              "\n",
              "        [[0.1116, 0.2583, 0.5439],\n",
              "         [0.1516, 0.6045, 0.2650]]])"
            ]
          },
          "metadata": {},
          "execution_count": 23
        }
      ]
    },
    {
      "cell_type": "markdown",
      "source": [
        "###Tensor datatype:\n",
        "[Datatypes available](https://docs.pytorch.org/docs/stable/tensors.html)\n",
        "\n",
        "**Note: Tensor datatypes is one of the 3 big errors you'll run into with PyTorch & deep learning:**\n",
        "1. Tensors not right datatype\n",
        "2. Tensors not right shape\n",
        "3. Tensors not on the right device"
      ],
      "metadata": {
        "id": "vGPsD3kgiJaJ"
      }
    },
    {
      "cell_type": "code",
      "source": [
        "tensor_float32 = torch.tensor([3.0,6.0,9.0],\n",
        "                              dtype=torch.float32,  #means we can specify th e datatype here lie float32 or float16\n",
        "                              device=None, #like where the tensor runs...CPU GPU CUDA\n",
        "                              requires_grad=False) #whether or not to track gradients with this tensors operations\n",
        "tensor_float32"
      ],
      "metadata": {
        "colab": {
          "base_uri": "https://localhost:8080/"
        },
        "id": "s4CghTUahoMk",
        "outputId": "f678fb44-40e7-4cc3-9573-fc47d152ef8d"
      },
      "execution_count": null,
      "outputs": [
        {
          "output_type": "execute_result",
          "data": {
            "text/plain": [
              "tensor([3., 6., 9.])"
            ]
          },
          "metadata": {},
          "execution_count": 24
        }
      ]
    },
    {
      "cell_type": "code",
      "source": [
        "#we can convert one data type into anothr\n",
        "tensor_float16 = tensor_float32.type(torch.float16)\n",
        "tensor_float16"
      ],
      "metadata": {
        "id": "w9wlF12ljTPx",
        "colab": {
          "base_uri": "https://localhost:8080/"
        },
        "outputId": "69581c94-f2f0-411b-930e-19ae5a60bd8e"
      },
      "execution_count": null,
      "outputs": [
        {
          "output_type": "execute_result",
          "data": {
            "text/plain": [
              "tensor([3., 6., 9.], dtype=torch.float16)"
            ]
          },
          "metadata": {},
          "execution_count": 25
        }
      ]
    },
    {
      "cell_type": "code",
      "source": [
        "###Experiment!\n",
        "ten16 = torch.tensor([1,2,3],\n",
        "                     dtype=torch.uint32,\n",
        "                     device=None,\n",
        "                     requires_grad=False)\n",
        "tens = ten16*tensor_float32\n",
        "tens\n",
        "\n",
        "#no issues..it works!"
      ],
      "metadata": {
        "colab": {
          "base_uri": "https://localhost:8080/"
        },
        "id": "HiFrJA_Llpdk",
        "outputId": "b4b31e81-a9d6-44a2-8288-66a146ce7045"
      },
      "execution_count": null,
      "outputs": [
        {
          "output_type": "execute_result",
          "data": {
            "text/plain": [
              "tensor([ 3., 12., 27.])"
            ]
          },
          "metadata": {},
          "execution_count": 26
        }
      ]
    },
    {
      "cell_type": "markdown",
      "source": [
        "###Getting attributes info from the Tensor:\n",
        "\n",
        "1.   Tensor dtype - tensor.dtype\n",
        "2.   Tensor device - tensor.device\n",
        "3.   Tensor shape - tensor.shape\n"
      ],
      "metadata": {
        "id": "BOTWn-7qn862"
      }
    },
    {
      "cell_type": "code",
      "source": [
        "some = torch.rand(3,4)\n",
        "print(some)\n",
        "print(f\"Datatype of tensor: {some.dtype}\")\n",
        "print(f\"Shape of tensor: {some.shape}\")\n",
        "print(f\"Device tensor is on: {some.device}\")"
      ],
      "metadata": {
        "colab": {
          "base_uri": "https://localhost:8080/"
        },
        "id": "37RZG226mLBp",
        "outputId": "63f132b8-1042-4ffd-f527-54f9094ac2a8"
      },
      "execution_count": null,
      "outputs": [
        {
          "output_type": "stream",
          "name": "stdout",
          "text": [
            "tensor([[0.7566, 0.7547, 0.3218, 0.2177],\n",
            "        [0.1406, 0.7596, 0.8620, 0.2014],\n",
            "        [0.9707, 0.0823, 0.6775, 0.4512]])\n",
            "Datatype of tensor: torch.float32\n",
            "Shape of tensor: torch.Size([3, 4])\n",
            "Device tensor is on: cpu\n"
          ]
        }
      ]
    },
    {
      "cell_type": "markdown",
      "source": [
        "###Manipulating Tensors:\n",
        "Tensors operations like\n",
        "addition\n",
        "multiplication\n",
        "division\n",
        "mat multiplication"
      ],
      "metadata": {
        "id": "CIuQL_l-o0cv"
      }
    },
    {
      "cell_type": "code",
      "source": [
        "qw = torch.tensor([1,2,3])\n",
        "qw +12  #summs with each of the element in the tensor\n",
        "qw = qw/10 #divs with each of the element in the tensor\n",
        "qw = qw*10 #multiplies with each of the element in the tensor\n",
        "#we also have builtin func like  torch.mul(qw,10) ,etc.,"
      ],
      "metadata": {
        "id": "LoMfAZMKpCaf"
      },
      "execution_count": null,
      "outputs": []
    },
    {
      "cell_type": "markdown",
      "source": [
        "Matrix multiplcation...n normal multiplication:"
      ],
      "metadata": {
        "id": "MU9OXdX8oAvM"
      }
    },
    {
      "cell_type": "code",
      "source": [
        "qw = torch.tensor([1,2,3])\n",
        "#qw = qw*10 #multiplies 10 with each of the element in the tensor\n",
        "torch.matmul(qw,qw)  #it is used to multiply 2 different matrix (dot product )"
      ],
      "metadata": {
        "id": "xpLSe8QBpLXU",
        "colab": {
          "base_uri": "https://localhost:8080/"
        },
        "outputId": "8cb39200-5214-4201-9fd7-f4d3b6dabe38"
      },
      "execution_count": null,
      "outputs": [
        {
          "output_type": "execute_result",
          "data": {
            "text/plain": [
              "tensor(14)"
            ]
          },
          "metadata": {},
          "execution_count": 5
        }
      ]
    },
    {
      "cell_type": "code",
      "source": [
        "###LETS look at how much time it will take...\n",
        "%%time\n",
        "value = 0\n",
        "for i in range(len(qw)-1):\n",
        "  value += qw[i] * qw[i]\n",
        "print(value)"
      ],
      "metadata": {
        "colab": {
          "base_uri": "https://localhost:8080/"
        },
        "id": "-ACQzxVjpy6q",
        "outputId": "6b6eeee0-e870-4b2c-e00f-8ce6a4720860"
      },
      "execution_count": null,
      "outputs": [
        {
          "output_type": "stream",
          "name": "stdout",
          "text": [
            "tensor(5)\n",
            "CPU times: user 4.15 ms, sys: 1.02 ms, total: 5.17 ms\n",
            "Wall time: 7.25 ms\n"
          ]
        }
      ]
    },
    {
      "cell_type": "code",
      "source": [
        "%%time\n",
        "torch.matmul(qw,qw)\n",
        "\n",
        "###instead we can also use @ for mtrix multiplication ie dot product!"
      ],
      "metadata": {
        "colab": {
          "base_uri": "https://localhost:8080/"
        },
        "id": "FsTHt7nMqDZr",
        "outputId": "4214df00-b1b6-4553-aab9-3dba1868554d"
      },
      "execution_count": null,
      "outputs": [
        {
          "output_type": "stream",
          "name": "stdout",
          "text": [
            "CPU times: user 103 µs, sys: 17 µs, total: 120 µs\n",
            "Wall time: 128 µs\n"
          ]
        },
        {
          "output_type": "execute_result",
          "data": {
            "text/plain": [
              "tensor(14)"
            ]
          },
          "metadata": {},
          "execution_count": 7
        }
      ]
    },
    {
      "cell_type": "markdown",
      "source": [
        "Matrix multiplication errors:\n",
        "1.  The **inner dimentsions** must match!\n",
        "    like (3,2) @ (3,2) wont work\n",
        "    (2,3) @ (3,2) will work\n",
        "  \n",
        "2.  The shape if the final matrix will be in the dimension of **outer dimension**  "
      ],
      "metadata": {
        "id": "7dRXkw36yrw9"
      }
    },
    {
      "cell_type": "code",
      "source": [
        "#first rule of matmul:\n",
        "#torch.matmul(torch.rand(3,2),torch.rand(3,3)) ==>error\n",
        "torch.matmul(torch.rand(3,2),torch.rand(2,3))\n",
        "#2nd rule of matrix mul:\n",
        "torch.matmul(torch.rand(3,2),torch.rand(2,1)) #output will be like (3x1)"
      ],
      "metadata": {
        "colab": {
          "base_uri": "https://localhost:8080/"
        },
        "id": "YnfeXLSVygTt",
        "outputId": "e102f04e-1b67-4f92-cf6c-bf123f2fd5da"
      },
      "execution_count": null,
      "outputs": [
        {
          "output_type": "execute_result",
          "data": {
            "text/plain": [
              "tensor([[0.5025],\n",
              "        [0.6918],\n",
              "        [0.3358]])"
            ]
          },
          "metadata": {},
          "execution_count": 8
        }
      ]
    },
    {
      "cell_type": "code",
      "source": [
        "tensorA = torch.tensor([[1,2],\n",
        "                        [3,4],\n",
        "                        [4,5]])\n",
        "tensorB = torch.tensor([[7,10],\n",
        "                        [8,11],\n",
        "                        [9,12]])\n",
        "#torch.matmul(tensorA,tensorB)  #it wont work due to rule one...we can take transverse and do it!\n",
        "torch.mm(tensorA,tensorB.T)  #it will work as we have taken Transverse\n",
        "tensorB.T.shape, tensorB.shape\n",
        "###if we chenk here we can see that it satifies both the condition!"
      ],
      "metadata": {
        "colab": {
          "base_uri": "https://localhost:8080/"
        },
        "id": "Arcqg86MzIBa",
        "outputId": "9230e2ec-28b9-4dbb-8eeb-4a831e608a6c"
      },
      "execution_count": null,
      "outputs": [
        {
          "output_type": "execute_result",
          "data": {
            "text/plain": [
              "(torch.Size([2, 3]), torch.Size([3, 2]))"
            ]
          },
          "metadata": {},
          "execution_count": 13
        }
      ]
    },
    {
      "cell_type": "markdown",
      "source": [
        "###Finding the min , max,sem,etc.,(Tensor aggregation):"
      ],
      "metadata": {
        "id": "iJf_rUBInpAP"
      }
    },
    {
      "cell_type": "code",
      "source": [
        "x= torch.arange(0,100,10)  #this is RANGE func not arrange\n",
        "x\n",
        "x.dtype"
      ],
      "metadata": {
        "id": "Tm9qxKcJ0UoQ",
        "colab": {
          "base_uri": "https://localhost:8080/"
        },
        "outputId": "67bebae4-1658-4d44-fb7d-687c089931ab"
      },
      "execution_count": null,
      "outputs": [
        {
          "output_type": "execute_result",
          "data": {
            "text/plain": [
              "torch.int64"
            ]
          },
          "metadata": {},
          "execution_count": 19
        }
      ]
    },
    {
      "cell_type": "code",
      "source": [
        "#to find min\n",
        "torch.min(x), min(x)\n",
        "#to find max\n",
        "torch.max(x),max(x)\n",
        "#to find mean IT REQUIRES FLOAT32 TO WORK\n",
        "#we cant directly use x.mean() it will shw error ie wrong datatype, so we need to chage it\n",
        "torch.mean(x.type(torch.float32)),x.type(torch.float32).mean()\n",
        "#to find sum\n",
        "#torch.sum(x),x.sum()"
      ],
      "metadata": {
        "colab": {
          "base_uri": "https://localhost:8080/"
        },
        "id": "0xSey1yen4Gq",
        "outputId": "8afdab14-2a93-402a-b32c-65e4d47c7229"
      },
      "execution_count": null,
      "outputs": [
        {
          "output_type": "stream",
          "name": "stdout",
          "text": [
            "tensor(0)\n"
          ]
        }
      ]
    },
    {
      "cell_type": "markdown",
      "source": [
        "###To find the position of those aggregations:"
      ],
      "metadata": {
        "id": "LPlua8idpmWy"
      }
    },
    {
      "cell_type": "code",
      "source": [
        "#in normal list we use list.index(target_element)\n",
        "x=torch.rand(2,3,3)\n",
        "torch.max(x)\n",
        "# torch.argmax(x)\n",
        "# torch.argmin(x)\n",
        "###in general for an 1D it will return value but for bigger tensors, it will just convert the tensor into 1D and return the answer"
      ],
      "metadata": {
        "colab": {
          "base_uri": "https://localhost:8080/"
        },
        "id": "TlSNcWaupYpP",
        "outputId": "87dea17f-91fc-483e-8e70-4f707f3a4cb9"
      },
      "execution_count": null,
      "outputs": [
        {
          "output_type": "execute_result",
          "data": {
            "text/plain": [
              "tensor(0.9290)"
            ]
          },
          "metadata": {},
          "execution_count": 45
        }
      ]
    },
    {
      "cell_type": "markdown",
      "source": [
        "###Reshaping, Stacking, Squeezing, unsqueezing tensors:\n",
        "1.  Reshaping - reshapes an input tensor to a defined shape\n",
        "2. View - Return a view of an input tensor of certain shape but keep the same memory as the original tensor\n",
        "3. Stacking - combine multiple tensors on top of each other (vstack) or side by side (hstack)\n",
        "4.  Squeeze - removes all 1 dimensions from a tensor\n",
        "5. Unsqueeze - add a 1 dimension to a target tensor\n",
        "6.  Permute - Return a view of the input with dimensions permuted (swapped) in a certain way"
      ],
      "metadata": {
        "id": "_yhO6_xRrcLR"
      }
    },
    {
      "cell_type": "code",
      "source": [
        "import torch\n",
        "x= torch.arange(1,13)\n",
        "x,x.shape"
      ],
      "metadata": {
        "colab": {
          "base_uri": "https://localhost:8080/"
        },
        "id": "o-ZBwlv-pyPH",
        "outputId": "de45a6d7-1dd9-4d35-c5c2-338f23c6ab89"
      },
      "execution_count": null,
      "outputs": [
        {
          "output_type": "execute_result",
          "data": {
            "text/plain": [
              "(tensor([ 1,  2,  3,  4,  5,  6,  7,  8,  9, 10, 11, 12]), torch.Size([12]))"
            ]
          },
          "metadata": {},
          "execution_count": 1
        }
      ]
    },
    {
      "cell_type": "code",
      "source": [
        "#lets add extra dimension => RESHAPING\n",
        "x_reshaped = x.reshape(6,2)   #here the params should be in such a way that their product is the number of elements\n",
        "x_reshaped,x_reshaped.shape"
      ],
      "metadata": {
        "colab": {
          "base_uri": "https://localhost:8080/"
        },
        "id": "Ivllk7KuszxQ",
        "outputId": "f3056cc0-c254-4017-f858-8a0a7d8a3171"
      },
      "execution_count": null,
      "outputs": [
        {
          "output_type": "execute_result",
          "data": {
            "text/plain": [
              "(tensor([[ 1,  2],\n",
              "         [ 3,  4],\n",
              "         [ 5,  6],\n",
              "         [ 7,  8],\n",
              "         [ 9, 10],\n",
              "         [11, 12]]),\n",
              " torch.Size([6, 2]))"
            ]
          },
          "metadata": {},
          "execution_count": 2
        }
      ]
    },
    {
      "cell_type": "code",
      "source": [
        "#Change the view => VIEW\n",
        "#THE MAIN THING TO REMBEMBER IS THAT X,Z WILL SHARE SAME MEMORY...SO CHANGES AFFCT\n",
        "z = x.view(2,6)\n",
        "z.shape,z\n",
        "#z[:,0] = 5   #THIS WILL CHANGE EVERY 1ST ELEMNT TO 5\n",
        "z,x"
      ],
      "metadata": {
        "colab": {
          "base_uri": "https://localhost:8080/"
        },
        "id": "QA1RsHFms3CF",
        "outputId": "252e2858-b03c-4dfa-c0ee-464f11e837ce"
      },
      "execution_count": null,
      "outputs": [
        {
          "output_type": "execute_result",
          "data": {
            "text/plain": [
              "(tensor([[ 1,  2,  3,  4,  5,  6],\n",
              "         [ 7,  8,  9, 10, 11, 12]]),\n",
              " tensor([ 1,  2,  3,  4,  5,  6,  7,  8,  9, 10, 11, 12]))"
            ]
          },
          "metadata": {},
          "execution_count": 3
        }
      ]
    },
    {
      "cell_type": "code",
      "source": [
        "#Stack\n",
        "x_stacked = torch.stack([x,x],dim=1)  #dim = 0 Horizontal stacking (2x12)\n",
        "x_stacked,x_stacked.shape             #dim = 1 Vertical stacking   (12x2)"
      ],
      "metadata": {
        "colab": {
          "base_uri": "https://localhost:8080/"
        },
        "id": "eV7c1LenvTDM",
        "outputId": "e64d9267-2d31-4cf7-f714-c36c65405263"
      },
      "execution_count": null,
      "outputs": [
        {
          "output_type": "execute_result",
          "data": {
            "text/plain": [
              "(tensor([[ 1,  1],\n",
              "         [ 2,  2],\n",
              "         [ 3,  3],\n",
              "         [ 4,  4],\n",
              "         [ 5,  5],\n",
              "         [ 6,  6],\n",
              "         [ 7,  7],\n",
              "         [ 8,  8],\n",
              "         [ 9,  9],\n",
              "         [10, 10],\n",
              "         [11, 11],\n",
              "         [12, 12]]),\n",
              " torch.Size([12, 2]))"
            ]
          },
          "metadata": {},
          "execution_count": 4
        }
      ]
    },
    {
      "cell_type": "code",
      "source": [
        "#Squeezing...it just removes one from the paramenter and add it into one tensor\n",
        "y=torch.rand(2,1,3)\n",
        "y_squeezed = y.squeeze()\n",
        "\n",
        "print(y.shape,y_squeezed.shape)\n",
        "print(\"\\n\")\n",
        "print(y,'\\n',y_squeezed)\n"
      ],
      "metadata": {
        "colab": {
          "base_uri": "https://localhost:8080/"
        },
        "id": "41zfCp7FwbKm",
        "outputId": "c3f26ab0-6c71-4418-92bb-0de379b3d33b"
      },
      "execution_count": null,
      "outputs": [
        {
          "output_type": "stream",
          "name": "stdout",
          "text": [
            "torch.Size([2, 1, 3]) torch.Size([2, 3])\n",
            "\n",
            "\n",
            "tensor([[[0.2812, 0.4712, 0.7209]],\n",
            "\n",
            "        [[0.6859, 0.6848, 0.7651]]]) \n",
            " tensor([[0.2812, 0.4712, 0.7209],\n",
            "        [0.6859, 0.6848, 0.7651]])\n"
          ]
        }
      ]
    },
    {
      "cell_type": "code",
      "source": [
        "#Unsqueezing\n",
        "y_unsqueezed = y_squeezed.unsqueeze(dim=-3)\n",
        "y_unsqueezed,y_unsqueezed.shape #it is used to give extra position to the tensor\n",
        "\n",
        "#dim = 0 [1,2,3]   #dim = -1 [2,3,1]\n",
        "#dim = 1 [2,1,3]   #dim = -2 [2,1,3]\n",
        "#dim = 2 [2,3,1]   #dim = -3 [1,2,3]"
      ],
      "metadata": {
        "id": "xKxVgGVNxWQU",
        "colab": {
          "base_uri": "https://localhost:8080/"
        },
        "outputId": "e9083732-c51d-45b7-d0af-f2de4e69ddce"
      },
      "execution_count": null,
      "outputs": [
        {
          "output_type": "execute_result",
          "data": {
            "text/plain": [
              "(tensor([[[0.2812, 0.4712, 0.7209],\n",
              "          [0.6859, 0.6848, 0.7651]]]),\n",
              " torch.Size([1, 2, 3]))"
            ]
          },
          "metadata": {},
          "execution_count": 25
        }
      ]
    },
    {
      "cell_type": "code",
      "source": [
        "#Permute is used to reorder an target tensor into an speicfied order\n",
        "torch.permute(y,dims=(2,0,1))  #here 0,1,2 are the position value\n",
        "x_original = torch.rand(244,244,3)   #HEIGHT,WIDTH,COLOR_CHANNELS\n",
        "#lets try permute or change the order\n",
        "x_permuted = x_original.permute(2,0,1)  #COLOR_CHANNELS,HEIGHT,WIDHT\n",
        "x_original.shape,x_permuted.shape\n",
        "###mainly used when we want to shift the order"
      ],
      "metadata": {
        "colab": {
          "base_uri": "https://localhost:8080/"
        },
        "id": "WguxH8IyZPpN",
        "outputId": "5dd16dd6-37cf-4392-d83b-fc96b25f850f"
      },
      "execution_count": null,
      "outputs": [
        {
          "output_type": "execute_result",
          "data": {
            "text/plain": [
              "(torch.Size([244, 244, 3]), torch.Size([3, 244, 244]))"
            ]
          },
          "metadata": {},
          "execution_count": 28
        }
      ]
    },
    {
      "cell_type": "markdown",
      "source": [
        "###INDEXING:\n",
        "one of the most important concept!\n",
        "It is similar to working with numpy"
      ],
      "metadata": {
        "id": "-7M_0MQ-bmmk"
      }
    },
    {
      "cell_type": "code",
      "source": [
        "import torch\n",
        "x=torch.arange(1,10).reshape(1,3,3)  # 1 (3x3) tensor\n",
        "x"
      ],
      "metadata": {
        "colab": {
          "base_uri": "https://localhost:8080/"
        },
        "id": "lXH0l6vUagjK",
        "outputId": "76a085a7-1d87-4664-bd54-b24ad7b6b043"
      },
      "execution_count": null,
      "outputs": [
        {
          "output_type": "execute_result",
          "data": {
            "text/plain": [
              "tensor([[[1, 2, 3],\n",
              "         [4, 5, 6],\n",
              "         [7, 8, 9]]])"
            ]
          },
          "metadata": {},
          "execution_count": 30
        }
      ]
    },
    {
      "cell_type": "code",
      "source": [
        "x[0] , x[0][2] , x[0][2][2]"
      ],
      "metadata": {
        "colab": {
          "base_uri": "https://localhost:8080/"
        },
        "id": "ygsWjXqxb-YW",
        "outputId": "f5739b10-27fa-4159-9d61-a9dcc85ba3c6"
      },
      "execution_count": null,
      "outputs": [
        {
          "output_type": "execute_result",
          "data": {
            "text/plain": [
              "(tensor([[1, 2, 3],\n",
              "         [4, 5, 6],\n",
              "         [7, 8, 9]]),\n",
              " tensor([7, 8, 9]),\n",
              " tensor(9))"
            ]
          },
          "metadata": {},
          "execution_count": 31
        }
      ]
    },
    {
      "cell_type": "code",
      "source": [
        "#we can use : to select all of the target dimension\n",
        "x[: ,0]\n",
        "x[:,:,2]  #to print all the 2nd index value of 3rd dimension\n",
        "x[:,:,1]   #it will be highly useful in matrix multiplication\n",
        "x[0,0,:]  #[1,2,3]\n",
        "x[:,:,2] #to print[3,6,9]"
      ],
      "metadata": {
        "colab": {
          "base_uri": "https://localhost:8080/"
        },
        "id": "p86yYUcufJfC",
        "outputId": "46c5e391-7e83-4976-c93b-675258ded0ca"
      },
      "execution_count": null,
      "outputs": [
        {
          "output_type": "execute_result",
          "data": {
            "text/plain": [
              "tensor([[3, 6, 9]])"
            ]
          },
          "metadata": {},
          "execution_count": 43
        }
      ]
    },
    {
      "cell_type": "markdown",
      "source": [
        "###Pytorch & Numpy:\n",
        "NumPy is a popular scientific Python numerical computing library.\n",
        "And because of this, PyTorch has functionality to interact with it.\n",
        "1.  Data in NumPy, want in PyTorch tensor -> torch.from_numpy (ndarray)\n",
        "2.  PyTorch tensor -> NumPy -> torch. Tensor. numpy ( )\n",
        "\n",
        "**NOTE: Numpy default datatype in float64...so it gets reflected in the tensor too!**"
      ],
      "metadata": {
        "id": "ddavl8zDhPh3"
      }
    },
    {
      "cell_type": "code",
      "source": [
        "import torch\n",
        "import numpy as np\n",
        "array  = np.arange(0,6)\n",
        "tensor = torch.from_numpy(array)  #used to convert numpy -> tensor\n",
        "tensor.reshape(1,2,3)  #just tried out reshaping\n",
        "tensor.squeeze #sqeezed into 1dim\n",
        "tensor.shape\n",
        "tensor.type(torch.float32).dtype #manually converted the tpye\n",
        "# numpya = torch.Tensor.numpy(tensor) #used to convert tensor -> numpy\n",
        "# numpya"
      ],
      "metadata": {
        "colab": {
          "base_uri": "https://localhost:8080/"
        },
        "id": "iSSvYU29fSQF",
        "outputId": "d7523b93-5ea7-44c3-8122-e79644c2b0e9"
      },
      "execution_count": null,
      "outputs": [
        {
          "output_type": "execute_result",
          "data": {
            "text/plain": [
              "torch.float32"
            ]
          },
          "metadata": {},
          "execution_count": 60
        }
      ]
    },
    {
      "cell_type": "code",
      "source": [
        "#will it affect if i chnage the value of the numpy ?\n",
        "array = array+1\n",
        "array, tensor\n",
        "#nope...no changses!"
      ],
      "metadata": {
        "colab": {
          "base_uri": "https://localhost:8080/"
        },
        "id": "JWKqwJd7h4wy",
        "outputId": "4ece7d8c-ce80-4d75-c255-e75f884523a4"
      },
      "execution_count": null,
      "outputs": [
        {
          "output_type": "execute_result",
          "data": {
            "text/plain": [
              "(array([2, 3, 4, 5, 6, 7]), tensor([0, 1, 2, 3, 4, 5]))"
            ]
          },
          "metadata": {},
          "execution_count": 62
        }
      ]
    },
    {
      "cell_type": "code",
      "source": [
        "tensorc = torch.rand(2,3,3)\n",
        "numpyx = torch.Tensor.numpy(tensorc)\n",
        "numpyx"
      ],
      "metadata": {
        "colab": {
          "base_uri": "https://localhost:8080/"
        },
        "id": "dlcroMR1kIWi",
        "outputId": "528da121-c5a0-432a-e0dc-09972984ae13"
      },
      "execution_count": null,
      "outputs": [
        {
          "output_type": "execute_result",
          "data": {
            "text/plain": [
              "array([[[0.35521126, 0.8728768 , 0.47687358],\n",
              "        [0.28736925, 0.0579499 , 0.78184414],\n",
              "        [0.14960611, 0.72627705, 0.37846917]],\n",
              "\n",
              "       [[0.21843606, 0.1921897 , 0.8910819 ],\n",
              "        [0.63411283, 0.69505316, 0.44429153],\n",
              "        [0.49625158, 0.6893902 , 0.6672997 ]]], dtype=float32)"
            ]
          },
          "metadata": {},
          "execution_count": 66
        }
      ]
    },
    {
      "cell_type": "code",
      "source": [
        "tensorc = tensorc+1\n",
        "numpyx,tensorc\n",
        "#same...no changes will affect!"
      ],
      "metadata": {
        "colab": {
          "base_uri": "https://localhost:8080/"
        },
        "id": "nmjAlRJ6kMv8",
        "outputId": "16400062-c721-4f58-f702-0e9dd814ca88"
      },
      "execution_count": null,
      "outputs": [
        {
          "output_type": "execute_result",
          "data": {
            "text/plain": [
              "(array([[[0.35521126, 0.8728768 , 0.47687358],\n",
              "         [0.28736925, 0.0579499 , 0.78184414],\n",
              "         [0.14960611, 0.72627705, 0.37846917]],\n",
              " \n",
              "        [[0.21843606, 0.1921897 , 0.8910819 ],\n",
              "         [0.63411283, 0.69505316, 0.44429153],\n",
              "         [0.49625158, 0.6893902 , 0.6672997 ]]], dtype=float32),\n",
              " tensor([[[3.3552, 3.8729, 3.4769],\n",
              "          [3.2874, 3.0580, 3.7818],\n",
              "          [3.1496, 3.7263, 3.3785]],\n",
              " \n",
              "         [[3.2184, 3.1922, 3.8911],\n",
              "          [3.6341, 3.6951, 3.4443],\n",
              "          [3.4963, 3.6894, 3.6673]]]))"
            ]
          },
          "metadata": {},
          "execution_count": 69
        }
      ]
    },
    {
      "cell_type": "markdown",
      "source": [
        "###REPRODUCABILITY:\n",
        "In short how a neural network learns:\n",
        "start with random numbers -> tensor operations -> update random numbers to try and make them\n",
        "of the data -> again -> again -> again...\n",
        "To reduce the randomness in neural networks and PyTorch comes the concept of a random seed.\n",
        "Essentially what the random seed does is \"flavour\" the randomness.\n"
      ],
      "metadata": {
        "id": "G0hlxInMxdPc"
      }
    },
    {
      "cell_type": "code",
      "source": [
        "import torch\n",
        "randA = torch.rand(3,4)\n",
        "randB = torch.rand(3,4)\n",
        "#print(randA,'\\n',randB)\n",
        "print(randA == randB)\n",
        "print(f\"tensor A is {randA} \\n &  \\n tensor b is {randB}\")"
      ],
      "metadata": {
        "colab": {
          "base_uri": "https://localhost:8080/"
        },
        "id": "PbjYaCw1xnmB",
        "outputId": "4dd3d4be-001c-45d8-fd3b-e0c0d80d8a6b"
      },
      "execution_count": null,
      "outputs": [
        {
          "output_type": "stream",
          "name": "stdout",
          "text": [
            "tensor([[False, False, False, False],\n",
            "        [False, False, False, False],\n",
            "        [False, False, False, False]])\n",
            "tensor A is tensor([[0.0138, 0.0017, 0.3094, 0.4911],\n",
            "        [0.1081, 0.2500, 0.6432, 0.2565],\n",
            "        [0.6059, 0.4998, 0.1384, 0.4913]]) \n",
            " &  \n",
            " tensor b is tensor([[0.7007, 0.3414, 0.4991, 0.3161],\n",
            "        [0.4103, 0.7855, 0.3575, 0.7147],\n",
            "        [0.0049, 0.9416, 0.8887, 0.1324]])\n"
          ]
        }
      ]
    },
    {
      "cell_type": "code",
      "source": [
        "#lets make some reproducable random tensor using random seed\n",
        "RANDOM_SEED = 42  #it can be anything...but its and important to declare it!\n",
        "torch.manual_seed(RANDOM_SEED)\n",
        "randC = torch.rand(3,4)\n",
        "torch.manual_seed(RANDOM_SEED)  #we need to give it before every code block!\n",
        "randD = torch.rand(3,4)\n",
        "print(randC == randD)"
      ],
      "metadata": {
        "id": "ESb7Vlsaz5lt",
        "colab": {
          "base_uri": "https://localhost:8080/"
        },
        "outputId": "ac5153a3-8441-4ad9-ee21-fea321a879d4"
      },
      "execution_count": null,
      "outputs": [
        {
          "output_type": "stream",
          "name": "stdout",
          "text": [
            "tensor([[True, True, True, True],\n",
            "        [True, True, True, True],\n",
            "        [True, True, True, True]])\n"
          ]
        }
      ]
    },
    {
      "cell_type": "markdown",
      "source": [
        "###GPU setup for Pytorch:"
      ],
      "metadata": {
        "id": "u_uePc_lHweq"
      }
    },
    {
      "cell_type": "code",
      "source": [
        "import torch\n",
        "torch.cuda.is_available()\n",
        "!nvidia-smi"
      ],
      "metadata": {
        "colab": {
          "base_uri": "https://localhost:8080/"
        },
        "id": "VN_FCJ8rHRtm",
        "outputId": "f2309af4-78cf-45f7-e3f6-9076094821dd"
      },
      "execution_count": null,
      "outputs": [
        {
          "output_type": "stream",
          "name": "stdout",
          "text": [
            "Fri May  9 12:56:39 2025       \n",
            "+-----------------------------------------------------------------------------------------+\n",
            "| NVIDIA-SMI 550.54.15              Driver Version: 550.54.15      CUDA Version: 12.4     |\n",
            "|-----------------------------------------+------------------------+----------------------+\n",
            "| GPU  Name                 Persistence-M | Bus-Id          Disp.A | Volatile Uncorr. ECC |\n",
            "| Fan  Temp   Perf          Pwr:Usage/Cap |           Memory-Usage | GPU-Util  Compute M. |\n",
            "|                                         |                        |               MIG M. |\n",
            "|=========================================+========================+======================|\n",
            "|   0  Tesla T4                       Off |   00000000:00:04.0 Off |                    0 |\n",
            "| N/A   58C    P8             10W /   70W |       2MiB /  15360MiB |      0%      Default |\n",
            "|                                         |                        |                  N/A |\n",
            "+-----------------------------------------+------------------------+----------------------+\n",
            "                                                                                         \n",
            "+-----------------------------------------------------------------------------------------+\n",
            "| Processes:                                                                              |\n",
            "|  GPU   GI   CI        PID   Type   Process name                              GPU Memory |\n",
            "|        ID   ID                                                               Usage      |\n",
            "|=========================================================================================|\n",
            "|  No running processes found                                                             |\n",
            "+-----------------------------------------------------------------------------------------+\n"
          ]
        }
      ]
    },
    {
      "cell_type": "code",
      "source": [
        "#setup device agnostic code\n",
        "device = \"cuda\" if torch.cuda.is_available() else \"cpu\"\n",
        "device\n",
        "#this means that is cuda available it will use that or else CPU\n",
        "#torch.cuda.device_count() just count the no of devices!"
      ],
      "metadata": {
        "colab": {
          "base_uri": "https://localhost:8080/",
          "height": 36
        },
        "id": "YayDTQmLHV1l",
        "outputId": "e830d94c-9a2b-4135-e136-eb1395c3cb66"
      },
      "execution_count": null,
      "outputs": [
        {
          "output_type": "execute_result",
          "data": {
            "text/plain": [
              "'cuda'"
            ],
            "application/vnd.google.colaboratory.intrinsic+json": {
              "type": "string"
            }
          },
          "metadata": {},
          "execution_count": 5
        }
      ]
    },
    {
      "cell_type": "markdown",
      "source": [
        "###Creating / Putting Tensors &Models in GPU:"
      ],
      "metadata": {
        "id": "RrO5JZJuJLnS"
      }
    },
    {
      "cell_type": "code",
      "source": [
        "#default it will be in CPU\n",
        "import torch\n",
        "tensor = torch.tensor([1,2,3])\n",
        "tensor.device"
      ],
      "metadata": {
        "colab": {
          "base_uri": "https://localhost:8080/"
        },
        "id": "mDCncwv0ILJa",
        "outputId": "770a1f56-9356-4428-e2bb-0a98eb13d872"
      },
      "execution_count": null,
      "outputs": [
        {
          "output_type": "execute_result",
          "data": {
            "text/plain": [
              "device(type='cpu')"
            ]
          },
          "metadata": {},
          "execution_count": 6
        }
      ]
    },
    {
      "cell_type": "code",
      "source": [
        "#Lets move it into GPU\n",
        "tensor_on_gpu = tensor.to(device)\n",
        "tensor_on_gpu   #as we have spescifed to run on GPU, we it switches to GPU\n",
        "#we get cuda0 which is index of the gpu"
      ],
      "metadata": {
        "colab": {
          "base_uri": "https://localhost:8080/"
        },
        "id": "hMA_kJ9AJaXk",
        "outputId": "4dbe273f-b3c4-4149-8352-cf737c57881b"
      },
      "execution_count": null,
      "outputs": [
        {
          "output_type": "execute_result",
          "data": {
            "text/plain": [
              "tensor([1, 2, 3], device='cuda:0')"
            ]
          },
          "metadata": {},
          "execution_count": 8
        }
      ]
    },
    {
      "cell_type": "code",
      "source": [
        "#Numpy only works with CPU...so we need to switch between cpu and gpu\n",
        "#tensor_on_gpu.numpy()  #it wont directly work"
      ],
      "metadata": {
        "id": "fO2HHhngJobE"
      },
      "execution_count": null,
      "outputs": []
    },
    {
      "cell_type": "code",
      "source": [
        "tensor_on_cpu = tensor_on_gpu.cpu()\n",
        "tensor_on_cpu.numpy()"
      ],
      "metadata": {
        "colab": {
          "base_uri": "https://localhost:8080/"
        },
        "id": "cSy0YPBvKB-y",
        "outputId": "70295fad-9ff4-4556-fc20-8e5a95839d64"
      },
      "execution_count": null,
      "outputs": [
        {
          "output_type": "execute_result",
          "data": {
            "text/plain": [
              "array([1, 2, 3])"
            ]
          },
          "metadata": {},
          "execution_count": 11
        }
      ]
    },
    {
      "cell_type": "code",
      "source": [
        "###we are done with Fundamentals...all left is to practice the excercises!"
      ],
      "metadata": {
        "id": "tAd_Ci5mKUwz"
      },
      "execution_count": null,
      "outputs": []
    }
  ]
}